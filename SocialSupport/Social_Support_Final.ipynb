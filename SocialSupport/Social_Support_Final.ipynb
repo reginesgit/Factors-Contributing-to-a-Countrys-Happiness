{
 "cells": [
  {
   "cell_type": "code",
   "execution_count": 1,
   "metadata": {},
   "outputs": [
    {
     "ename": "ModuleNotFoundError",
     "evalue": "No module named 'plotly'",
     "output_type": "error",
     "traceback": [
      "\u001b[1;31m---------------------------------------------------------------------------\u001b[0m",
      "\u001b[1;31mModuleNotFoundError\u001b[0m                       Traceback (most recent call last)",
      "\u001b[1;32m<ipython-input-1-fb56464e11f9>\u001b[0m in \u001b[0;36m<module>\u001b[1;34m\u001b[0m\n\u001b[0;32m      7\u001b[0m \u001b[1;32mfrom\u001b[0m \u001b[0mnumpy\u001b[0m\u001b[1;33m.\u001b[0m\u001b[0mrandom\u001b[0m \u001b[1;32mimport\u001b[0m \u001b[0mrandn\u001b[0m\u001b[1;33m\u001b[0m\u001b[1;33m\u001b[0m\u001b[0m\n\u001b[0;32m      8\u001b[0m \u001b[1;32mfrom\u001b[0m \u001b[0mscipy\u001b[0m\u001b[1;33m.\u001b[0m\u001b[0mstats\u001b[0m \u001b[1;32mimport\u001b[0m \u001b[0mlinregress\u001b[0m\u001b[1;33m\u001b[0m\u001b[1;33m\u001b[0m\u001b[0m\n\u001b[1;32m----> 9\u001b[1;33m \u001b[1;32mimport\u001b[0m \u001b[0mplotly\u001b[0m\u001b[1;33m.\u001b[0m\u001b[0mgraph_objects\u001b[0m \u001b[1;32mas\u001b[0m \u001b[0mgo\u001b[0m\u001b[1;33m\u001b[0m\u001b[1;33m\u001b[0m\u001b[0m\n\u001b[0m\u001b[0;32m     10\u001b[0m \u001b[1;31m#import plotly.plotly as py\u001b[0m\u001b[1;33m\u001b[0m\u001b[1;33m\u001b[0m\u001b[1;33m\u001b[0m\u001b[0m\n\u001b[0;32m     11\u001b[0m \u001b[1;32mimport\u001b[0m \u001b[0mplotly\u001b[0m\u001b[1;33m.\u001b[0m\u001b[0mtools\u001b[0m \u001b[1;32mas\u001b[0m \u001b[0mtls\u001b[0m\u001b[1;33m\u001b[0m\u001b[1;33m\u001b[0m\u001b[0m\n",
      "\u001b[1;31mModuleNotFoundError\u001b[0m: No module named 'plotly'"
     ]
    }
   ],
   "source": [
    "# Dependencies\n",
    "import pandas as pd\n",
    "import matplotlib.pyplot as plt\n",
    "from matplotlib import rcParams\n",
    "import scipy.stats as sts\n",
    "import numpy as np\n",
    "from numpy.random import randn\n",
    "from scipy.stats import linregress\n",
    "import plotly.graph_objects as go\n",
    "#import plotly.plotly as py\n",
    "import plotly.tools as tls\n",
    "from plotly.offline import iplot\n",
    "#import cufflinks as cf\n",
    "import sklearn\n",
    "from sklearn.preprocessing import StandardScaler"
   ]
  },
  {
   "cell_type": "code",
   "execution_count": null,
   "metadata": {},
   "outputs": [],
   "source": [
    "%matplotlib inline\n",
    "rcParams['figure.figsize']=15,8"
   ]
  },
  {
   "cell_type": "code",
   "execution_count": null,
   "metadata": {},
   "outputs": [],
   "source": [
    "np.set_printoptions(precision=3) # limit the decimal places to 3"
   ]
  },
  {
   "cell_type": "markdown",
   "metadata": {},
   "source": [
    "#      Download and Clean the Data"
   ]
  },
  {
   "cell_type": "code",
   "execution_count": null,
   "metadata": {},
   "outputs": [],
   "source": [
    "# Store filepath in a variable\n",
    "file_family_2015 = \"Resources/2015.csv\"\n",
    "file_family_2016 = \"Resources/2016.csv\"\n",
    "file_family_2017 = \"Resources/2017.csv\"\n",
    "file_family_2018 = \"Resources/2018.csv\"\n",
    "file_family_2019 = \"Resources/2019.csv\""
   ]
  },
  {
   "cell_type": "code",
   "execution_count": null,
   "metadata": {},
   "outputs": [],
   "source": [
    "# Read Data files with the pandas library\n",
    "happiness_family_2015_df = pd.read_csv(file_family_2015, encoding=\"UTF-8\")\n",
    "happiness_family_2016_df = pd.read_csv(file_family_2016, encoding=\"UTF-8\")\n",
    "happiness_family_2017_df = pd.read_csv(file_family_2017, encoding=\"UTF-8\")\n",
    "happiness_family_2018_df = pd.read_csv(file_family_2018, encoding=\"UTF-8\")\n",
    "happiness_family_2019_df = pd.read_csv(file_family_2019, encoding=\"UTF-8\")\n",
    "\n",
    "print(\"There are 158 countries in 2015 dataset\")\n",
    "print(\"There are 157 countries in 2016 dataset\")\n",
    "print(\"There are 155 countries in 2017 dataset\")\n",
    "print(\"There are 156 countries in 2018 dataset\")\n",
    "print(\"There are 156 countries in 2019 dataset\")"
   ]
  },
  {
   "cell_type": "markdown",
   "metadata": {},
   "source": [
    "# 2015"
   ]
  },
  {
   "cell_type": "code",
   "execution_count": null,
   "metadata": {},
   "outputs": [],
   "source": [
    "avg_happy =happiness_family_2015_df[\"Happiness Score\"].mean()\n",
    "avg_GDP =happiness_family_2015_df[\"Economy (GDP per Capita)\"].mean()\n",
    "avg_support =happiness_family_2015_df[\"Family\"].mean()\n",
    "avg_health =happiness_family_2015_df[\"Health (Life Expectancy)\"].mean()\n",
    "avg_Generosity =happiness_family_2015_df[\"Generosity\"].mean()\n",
    "\n",
    "print(f\"The average happines is: {avg_happy}\")\n",
    "print(f\"The average GDP is: {avg_GDP}\")\n",
    "print(f\"The average support is: {avg_support}\")\n",
    "print(f\"The average health is: {avg_health}\")\n",
    "print(f\"The average generosity is: {avg_Generosity}\")"
   ]
  },
  {
   "cell_type": "markdown",
   "metadata": {},
   "source": [
    "# 2016"
   ]
  },
  {
   "cell_type": "code",
   "execution_count": null,
   "metadata": {},
   "outputs": [],
   "source": [
    "avg_happy =happiness_family_2016_df[\"Happiness Score\"].mean()\n",
    "avg_GDP =happiness_family_2016_df[\"Economy (GDP per Capita)\"].mean()\n",
    "avg_support =happiness_family_2016_df[\"Family\"].mean()\n",
    "avg_health =happiness_family_2016_df[\"Health (Life Expectancy)\"].mean()\n",
    "avg_Generosity =happiness_family_2016_df[\"Generosity\"].mean()\n",
    "\n",
    "print(f\"The average happines is: {avg_happy}\")\n",
    "print(f\"The average GDP is: {avg_GDP}\")\n",
    "print(f\"The average support is: {avg_support}\")\n",
    "print(f\"The average health is: {avg_health}\")\n",
    "print(f\"The average generosity is: {avg_Generosity}\")"
   ]
  },
  {
   "cell_type": "markdown",
   "metadata": {},
   "source": [
    "# 2017"
   ]
  },
  {
   "cell_type": "code",
   "execution_count": null,
   "metadata": {},
   "outputs": [],
   "source": [
    "avg_happy =happiness_family_2017_df[\"Happiness.Score\"].mean()\n",
    "avg_GDP =happiness_family_2017_df[\"Economy..GDP.per.Capita.\"].mean()\n",
    "avg_support =happiness_family_2017_df[\"Family\"].mean()\n",
    "avg_health =happiness_family_2017_df[\"Health..Life.Expectancy.\"].mean()\n",
    "avg_Generosity =happiness_family_2017_df[\"Generosity\"].mean()\n",
    "\n",
    "print(f\"The average happines is: {avg_happy}\")\n",
    "print(f\"The average GDP is: {avg_GDP}\")\n",
    "print(f\"The average support is: {avg_support}\")\n",
    "print(f\"The average health is: {avg_health}\")\n",
    "print(f\"The average generosity is: {avg_Generosity}\")"
   ]
  },
  {
   "cell_type": "markdown",
   "metadata": {},
   "source": [
    "# 2018"
   ]
  },
  {
   "cell_type": "code",
   "execution_count": null,
   "metadata": {},
   "outputs": [],
   "source": [
    "avg_happy =happiness_family_2018_df[\"Score\"].mean()\n",
    "avg_GDP =happiness_family_2018_df[\"GDP per capita\"].mean()\n",
    "avg_support =happiness_family_2018_df[\"Social support\"].mean()\n",
    "avg_health =happiness_family_2018_df[\"Healthy life expectancy\"].mean()\n",
    "avg_Generosity =happiness_family_2018_df[\"Generosity\"].mean()\n",
    "\n",
    "print(f\"The average happines is: {avg_happy}\")\n",
    "print(f\"The average GDP is: {avg_GDP}\")\n",
    "print(f\"The average support is: {avg_support}\")\n",
    "print(f\"The average health is: {avg_health}\")\n",
    "print(f\"The average generosity is: {avg_Generosity}\")"
   ]
  },
  {
   "cell_type": "markdown",
   "metadata": {},
   "source": [
    "# 2019"
   ]
  },
  {
   "cell_type": "code",
   "execution_count": null,
   "metadata": {},
   "outputs": [],
   "source": [
    "avg_happy =happiness_family_2019_df[\"Score\"].mean()\n",
    "avg_GDP =happiness_family_2019_df[\"GDP per capita\"].mean()\n",
    "avg_support =happiness_family_2019_df[\"Social support\"].mean()\n",
    "avg_health =happiness_family_2019_df[\"Healthy life expectancy\"].mean()\n",
    "avg_Generosity =happiness_family_2019_df[\"Generosity\"].mean()\n",
    "\n",
    "print(f\"The average happines is: {avg_happy}\")\n",
    "print(f\"The average GDP is: {avg_GDP}\")\n",
    "print(f\"The average support is: {avg_support}\")\n",
    "print(f\"The average health is: {avg_health}\")\n",
    "print(f\"The average generosity is: {avg_Generosity}\")"
   ]
  },
  {
   "cell_type": "markdown",
   "metadata": {},
   "source": [
    "*2015 The average happines is: 5.37573417721519\n",
    "      The average GDP is: 0.8461372151898735\n",
    "      The average support is: 0.9910459493670887\n",
    "      The average health is: 0.6302593670886076\n",
    "      The average generosity is: 0.2372955063291139\n",
    "      \n",
    "*2016   The average happines is: 5.382184713375795\n",
    "        The average GDP is: 0.9538798089171975\n",
    "        The average support is: 0.7936210828025478\n",
    "        The average health is: 0.5576189808917197\n",
    "        The average generosity is: 0.24263490445859873\n",
    "        \n",
    "2017    The average happines is: 5.354019355773926\n",
    "        The average GDP is: 0.9847182019463474\n",
    "        The average support is: 1.188897750454564\n",
    "        The average health is: 0.5513407826123219\n",
    "        The average generosity is: 0.24688347161657387\n",
    "        \n",
    "2018    The average happines is: 5.375916666666667\n",
    "        The average GDP is: 0.8914487179487179\n",
    "        The average support is: 1.2132371794871795\n",
    "        The average health is: 0.5973461538461539\n",
    "        The average generosity is: 0.18100641025641026\n",
    "        \n",
    "2019    The average happines is: 5.407096153846154\n",
    "        The average GDP is: 0.905147435897436\n",
    "        The average support is: 1.2088141025641026\n",
    "        The average health is: 0.7252435897435898\n",
    "        The average generosity is: 0.18484615384615383"
   ]
  },
  {
   "cell_type": "code",
   "execution_count": null,
   "metadata": {},
   "outputs": [],
   "source": [
    "summary_df = pd.DataFrame({'Year' : [\"2015\",\"2016\",\"2017\",\"2018\",\"2019\"],\n",
    "                          'Avg_Happiness':[5.38,5.38,5.35,5.38,5.41],\n",
    "                          'Avg_GDP':[0.85,0.95,0.98,0.89,0.91],\n",
    "                          'Avg_support':[0.99,0.79,1.19,1.2,1.21],\n",
    "                          'Avg_health':[0.63,0.56,0.55,0.60,0.73],\n",
    "                          'Avg_generosity':[0.24,0.24,0.25,0.18,0.18]})\n",
    "summary_df"
   ]
  },
  {
   "cell_type": "code",
   "execution_count": null,
   "metadata": {},
   "outputs": [],
   "source": [
    "# multiple plot\n",
    "\n",
    "multi_plot =  summary_df.plot(kind=\"bar\", figsize=(20,5))\n",
    "\n",
    "# PandasPlot.set_xticklabels() can be used to set the tick labels as well\n",
    "multi_plot.set_xticklabels(summary_df[\"Year\"], rotation=45)\n",
    "\n",
    "plt.show()\n",
    "plt.tight_layout()"
   ]
  },
  {
   "cell_type": "code",
   "execution_count": null,
   "metadata": {},
   "outputs": [],
   "source": [
    "# Keep the columns that needed for the analysis\n",
    "\n",
    "d_2015_data =happiness_family_2015_df.loc[:, (\"Country\",\"Happiness Score\",\"Family\",\"Generosity\")]\n",
    "d_2016_data =happiness_family_2016_df.loc[:, (\"Country\",\"Happiness Score\",\"Family\",\"Generosity\")]\n",
    "d_2017_data =happiness_family_2017_df.loc[:, (\"Country\",\"Happiness.Score\",\"Family\",\"Generosity\")]\n",
    "d_2018_data =happiness_family_2018_df.loc[:, (\"Country or region\",\"Score\",\"Social support\",\"Generosity\")]\n",
    "d_2019_data =happiness_family_2019_df.loc[:, (\"Country or region\",\"Score\",\"Social support\",\"Generosity\")]\n"
   ]
  },
  {
   "cell_type": "code",
   "execution_count": null,
   "metadata": {},
   "outputs": [],
   "source": [
    "# Rename Columns to match the datasets for previous years and add suffix for year\n",
    "d_2015_data.rename(columns = {\"Family\" : \"support_2015\",\"Happiness Score\":\"Happiness_2015\",\"Generosity\":\"Generosity_2015\"}, inplace = True)\n",
    "d_2016_data.rename(columns = {\"Family\" : \"support_2016\",\"Happiness Score\":\"Happiness_2016\",\"Generosity\":\"Generosity_2016\"}, inplace = True)\n",
    "d_2017_data.rename(columns = {\"Family\" : \"support_2017\",\"Happiness.Score\":\"Happiness_2017\",\"Generosity\":\"Generosity_2017\"}, inplace = True)\n",
    "d_2018_data.rename(columns = {\"Social support\" : \"support_2018\",\"Country or region\": \"Country\",\"Score\":\"Happiness_2018\",\"Generosity\":\"Generosity_2018\"}, inplace = True)\n",
    "d_2019_data.rename(columns = {\"Social support\" : \"support_2019\", \"Country or region\": \"Country\",\"Score\":\"Happiness_2019\",\"Generosity\":\"Generosity_2019\"},inplace = True)\n"
   ]
  },
  {
   "cell_type": "code",
   "execution_count": null,
   "metadata": {},
   "outputs": [],
   "source": [
    "# drop the rows with missing data\n",
    "\n",
    "clean_2015_df= d_2015_data.dropna(axis = 0, how = 'any')\n",
    "clean_2016_df= d_2016_data.dropna(axis = 0, how = 'any')\n",
    "clean_2017_df= d_2017_data.dropna(axis = 0, how = 'any')\n",
    "clean_2018_df= d_2018_data.dropna(axis = 0, how = 'any')\n",
    "clean_2019_df= d_2019_data.dropna(axis = 0, how = 'any')\n",
    "\n",
    "print(\"There are 158 countries in clean_2015 dataset\")\n",
    "print(\"There are 157 countries in clean_2016 dataset\")\n",
    "print(\"There are 155 countries in clean_2017 dataset\")\n",
    "print(\"There are 156 countries in clean_2018 dataset\")\n",
    "print(\"There are 156 countries in clean_2019 dataset\")"
   ]
  },
  {
   "cell_type": "code",
   "execution_count": null,
   "metadata": {},
   "outputs": [],
   "source": [
    "# Combine the first two data sets \n",
    "clean_15_16_df = pd.merge(clean_2015_df,clean_2016_df, how =\"left\",on= \"Country\")\n",
    "clean_15_16_df.head()"
   ]
  },
  {
   "cell_type": "markdown",
   "metadata": {},
   "source": [
    "#                Combine the Data from each Year to a Big Dataset "
   ]
  },
  {
   "cell_type": "code",
   "execution_count": null,
   "metadata": {},
   "outputs": [],
   "source": [
    "clean_15_17_df = pd.merge(clean_15_16_df,clean_2017_df, how =\"left\",on= \"Country\")\n",
    "clean_15_17_df.head()"
   ]
  },
  {
   "cell_type": "code",
   "execution_count": null,
   "metadata": {},
   "outputs": [],
   "source": [
    "clean_15_18_df = pd.merge(clean_15_17_df,clean_2018_df, how =\"left\",on= \"Country\")\n",
    "clean_15_18_df.head()"
   ]
  },
  {
   "cell_type": "code",
   "execution_count": null,
   "metadata": {},
   "outputs": [],
   "source": [
    "clean_15_19_df = pd.merge(clean_15_18_df,clean_2019_df, how =\"left\",on= \"Country\")\n",
    "clean_15_19_df.head()"
   ]
  },
  {
   "cell_type": "code",
   "execution_count": null,
   "metadata": {},
   "outputs": [],
   "source": [
    "combined_df= clean_15_19_df.dropna(axis = 0, how = 'any')\n",
    "print(\"There are 141 countries in the combined cleaned final dataset\")\n",
    "combined_df.head()\n"
   ]
  },
  {
   "cell_type": "markdown",
   "metadata": {},
   "source": [
    "# Save the Cleaned data in a Folder"
   ]
  },
  {
   "cell_type": "code",
   "execution_count": null,
   "metadata": {},
   "outputs": [],
   "source": [
    "# Save the final cleaned data set in a folder\n",
    "combined_df.to_csv(\"Resources/combined_df.csv\")"
   ]
  },
  {
   "cell_type": "markdown",
   "metadata": {},
   "source": [
    "## calculate the mean of the variable of interested"
   ]
  },
  {
   "cell_type": "code",
   "execution_count": null,
   "metadata": {},
   "outputs": [],
   "source": [
    "# Calculate Avg. Happiness  \n",
    "\n",
    "combined_df['Avg_Happiness'] = (combined_df[\"Happiness_2015\"] + \n",
    "                         combined_df[\"Happiness_2016\"]+ \n",
    "                           combined_df[\"Happiness_2017\"]+ \n",
    "                           combined_df[\"Happiness_2018\"]+ \n",
    "                           combined_df[\"Happiness_2019\"])/5\n",
    "combined_df.head()"
   ]
  },
  {
   "cell_type": "code",
   "execution_count": null,
   "metadata": {},
   "outputs": [],
   "source": [
    "# Calculate Avg. Happiness  \n",
    "\n",
    "combined_df['Avg_Support'] = (combined_df[\"support_2015\"] + \n",
    "                         combined_df[\"support_2016\"]+ \n",
    "                           combined_df[\"support_2017\"]+ \n",
    "                           combined_df[\"support_2018\"]+ \n",
    "                           combined_df[\"support_2019\"])/5\n",
    "combined_df.head()"
   ]
  },
  {
   "cell_type": "code",
   "execution_count": null,
   "metadata": {},
   "outputs": [],
   "source": [
    "combined_df['Avg_generosity'] = (combined_df[\"Generosity_2015\"] + \n",
    "                         combined_df[\"Generosity_2016\"]+ \n",
    "                           combined_df[\"Generosity_2017\"]+ \n",
    "                           combined_df[\"Generosity_2018\"]+ \n",
    "                           combined_df[\"Generosity_2019\"])/5\n",
    "combined_df.head()"
   ]
  },
  {
   "cell_type": "markdown",
   "metadata": {},
   "source": [
    "## Summary Statistics of the data"
   ]
  },
  {
   "cell_type": "code",
   "execution_count": null,
   "metadata": {},
   "outputs": [],
   "source": [
    "combined_df.describe()"
   ]
  },
  {
   "cell_type": "markdown",
   "metadata": {},
   "source": [
    "# Create a dataset with the variable of interest from each year"
   ]
  },
  {
   "cell_type": "markdown",
   "metadata": {},
   "source": [
    "# Happiness"
   ]
  },
  {
   "cell_type": "code",
   "execution_count": null,
   "metadata": {},
   "outputs": [],
   "source": []
  },
  {
   "cell_type": "code",
   "execution_count": null,
   "metadata": {},
   "outputs": [],
   "source": [
    "# Labels for the sections of our pie chart\n",
    "labels = [\"< 3.9\", \"4.0 to 4.9\", \"5.0 to 5.9\",\"6.0 to 6.9 \", \"> 7.0\"]\n",
    "\n",
    "# The values of each section of the pie chart\n",
    "sizes = [13, 36, 44, 29, 19]\n",
    "\n",
    "# The colors of each section of the pie chart\n",
    "colors = [\"red\", \"orange\", \"lightcoral\", \"lightskyblue\", \"Green\"]\n",
    "\n",
    "# Tells matplotlib to seperate the \"Humans\" section from the others\n",
    "explode = (0, 0, 0, 0, 0.1)\n",
    "\n",
    "# Creates the pie chart based upon the values above\n",
    "# Automatically finds the percentages of each part of the pie chart\n",
    "plt.pie(sizes, explode=explode, labels=labels, colors=colors,\n",
    "        autopct=\"%1.1f%%\", shadow=True, startangle=160)\n",
    "plt.title(\"Distribution of number of Countries Based on Happiness Score\")\n",
    "plt.savefig(\"../images/Pie_Proportion_HappyScore.png\")"
   ]
  },
  {
   "cell_type": "code",
   "execution_count": null,
   "metadata": {},
   "outputs": [],
   "source": [
    "Happiness_df = pd.DataFrame(combined_df[[\"Country\",\"Happiness_2015\",\"Happiness_2016\",\"Happiness_2017\",\"Happiness_2018\",\"Happiness_2019\"]])\n",
    "# setting Country as index column\n",
    "Happiness_df.set_index(\"Country\", inplace = True)\n",
    "Happiness_df = Happiness_df.rename(columns={\"Happiness_2015\":\"2015\",\"Happiness_2016\":\"2016\",\"Happiness_2017\":\"2017\",\"Happiness_2018\":\"2018\",\"Happiness_2019\":\"2019\"})\n",
    "Happy_bottom10 =Happiness_df.tail(10)\n",
    "Happy_bottom10"
   ]
  },
  {
   "cell_type": "code",
   "execution_count": null,
   "metadata": {},
   "outputs": [],
   "source": [
    "Happiness_df = pd.DataFrame(combined_df[[\"Country\",\"Happiness_2015\",\"Happiness_2016\",\"Happiness_2017\",\"Happiness_2018\",\"Happiness_2019\"]])\n",
    "# setting Country as index column\n",
    "Happiness_df.set_index(\"Country\", inplace = True)\n",
    "Happiness_df = Happiness_df.rename(columns={\"Happiness_2015\":\"2015\",\"Happiness_2016\":\"2016\",\"Happiness_2017\":\"2017\",\"Happiness_2018\":\"2018\",\"Happiness_2019\":\"2019\"})\n",
    "Happy_Top10 =Happiness_df.head(10)\n",
    "Happy_Top10"
   ]
  },
  {
   "cell_type": "markdown",
   "metadata": {},
   "source": [
    "# Generosity"
   ]
  },
  {
   "cell_type": "code",
   "execution_count": null,
   "metadata": {},
   "outputs": [],
   "source": [
    "generosity_df = pd.DataFrame(combined_df[[\"Country\",\"Generosity_2015\",\"Generosity_2016\",\"Generosity_2017\",\"Generosity_2018\",\"Generosity_2019\"]])\n",
    "#setting Country as index column\n",
    "generosity_df.set_index(\"Country\", inplace = True)\n",
    "generosity_df = generosity_df.rename(columns={\"Generosity_2015\":\"2015\",\"Generosity_2016\":\"2016\",\"Generosity_2017\":\"2017\",\"Generosity_2018\":\"2018\",\"Generosity_2019\":\"2019\"})\n",
    "\n",
    "generosity_df.head()"
   ]
  },
  {
   "cell_type": "code",
   "execution_count": null,
   "metadata": {},
   "outputs": [],
   "source": [
    "# Collect the mean Social suppor rates for the world\n",
    "average_generosity = generosity_df.mean()\n",
    "\n",
    "# Collect the years where data was collected\n",
    "years = generosity_df.keys()\n"
   ]
  },
  {
   "cell_type": "code",
   "execution_count": null,
   "metadata": {},
   "outputs": [],
   "source": [
    "average_generosity.plot(label=\"World Average\")\n",
    "generosity_df.loc['Denmark', \"2015\":\"2019\"].plot(label=\"Denmark\")\n",
    "generosity_df.loc['Norway', \"2015\":\"2019\"].plot(label=\"Norway\")\n",
    "generosity_df.loc['Switzerland', \"2015\":\"2019\"].plot(label=\"Switzerland\")\n",
    "generosity_df.loc['Iceland', \"2015\":\"2019\"].plot(label=\"Iceland\")\n",
    "generosity_df.loc['Canada', \"2015\":\"2019\"].plot(label=\"Canada\")\n",
    "plt.ylabel('Generosity Score')\n",
    "plt.xlabel('Year')\n",
    "plt.title(\"Generosity (Top 5 countries)\")\n",
    "plt.legend()\n",
    "plt.savefig(\"../images/generosityScore_year.png\")\n",
    "plt.show()"
   ]
  },
  {
   "cell_type": "markdown",
   "metadata": {},
   "source": [
    "# Social Support"
   ]
  },
  {
   "cell_type": "markdown",
   "metadata": {},
   "source": [
    "## Top10_SocialSupport_Score"
   ]
  },
  {
   "cell_type": "code",
   "execution_count": null,
   "metadata": {},
   "outputs": [],
   "source": [
    "support_df = pd.DataFrame(combined_df[[\"Country\",\"support_2015\",\"support_2016\",\"support_2017\",\"support_2018\",\"support_2019\"]])\n",
    "# setting Country as index column\n",
    "support_df.set_index(\"Country\", inplace = True)\n",
    "support_df = support_df.rename(columns={\"support_2015\":\"2015\",\"support_2016\":\"2016\",\"support_2017\":\"2017\",\"support_2018\":\"2018\",\"support_2019\":\"2019\"})\n",
    "\n",
    "support_top10=support_df.head(10)\n",
    "support_top10"
   ]
  },
  {
   "cell_type": "code",
   "execution_count": null,
   "metadata": {},
   "outputs": [],
   "source": [
    "# Collect the mean Social suppor rates for the world\n",
    "average_support = support_top10.mean()\n",
    "\n",
    "# Collect the years where data was collected\n",
    "years = support_top10.keys()"
   ]
  },
  {
   "cell_type": "code",
   "execution_count": null,
   "metadata": {},
   "outputs": [],
   "source": [
    "average_support.plot(label=\"World Average\")\n",
    "support_top10.loc['Denmark', \"2015\":\"2019\"].plot(label=\"Denmark\")\n",
    "support_top10.loc['Norway', \"2015\":\"2019\"].plot(label=\"Norway\")\n",
    "support_top10.loc['Switzerland', \"2015\":\"2019\"].plot(label=\"Switzerland\")\n",
    "support_top10.loc['Iceland', \"2015\":\"2019\"].plot(label=\"Iceland\")\n",
    "support_top10.loc['Canada', \"2015\":\"2019\"].plot(label=\"Canada\")\n",
    "support_top10.loc['Finland', \"2015\":\"2019\"].plot(label=\"Finland\")\n",
    "support_top10.loc['Netherlands', \"2015\":\"2019\"].plot(label=\"Netherlands\")\n",
    "support_top10.loc['Sweden', \"2015\":\"2019\"].plot(label=\"Sweden\")\n",
    "support_top10.loc['New Zealand', \"2015\":\"2019\"].plot(label=\"New Zealand\")\n",
    "support_top10.loc['Australia', \"2015\":\"2019\"].plot(label=\"Australia\")\n",
    "plt.title(\"Plot Social Support Score for Top 10 Countries\")\n",
    "plt.ylabel('Social Support Score')\n",
    "plt.xlabel('Year')\n",
    "plt.legend()\n",
    "plt.savefig(\"../images/Top10_SocialSupport_Score.png\")\n",
    "plt.show()"
   ]
  },
  {
   "cell_type": "markdown",
   "metadata": {},
   "source": [
    "## Bottom10_SocialSupport_Score"
   ]
  },
  {
   "cell_type": "code",
   "execution_count": null,
   "metadata": {},
   "outputs": [],
   "source": [
    "support_df = pd.DataFrame(combined_df[[\"Country\",\"support_2015\",\"support_2016\",\"support_2017\",\"support_2018\",\"support_2019\"]])\n",
    "# setting Country as index column\n",
    "support_df.set_index(\"Country\", inplace = True)\n",
    "support_df = support_df.rename(columns={\"support_2015\":\"2015\",\"support_2016\":\"2016\",\"support_2017\":\"2017\",\"support_2018\":\"2018\",\"support_2019\":\"2019\"})\n",
    "\n",
    "support_bottom10=support_df.tail(10)\n",
    "support_bottom10"
   ]
  },
  {
   "cell_type": "code",
   "execution_count": null,
   "metadata": {},
   "outputs": [],
   "source": [
    "# Collect the mean Social suppor rates for the world\n",
    "average_support = support_bottom10.mean()\n",
    "\n",
    "# Collect the years where data was collected\n",
    "years = support_bottom10.keys()"
   ]
  },
  {
   "cell_type": "code",
   "execution_count": null,
   "metadata": {},
   "outputs": [],
   "source": [
    "average_support.plot(label=\"World Average\")\n",
    "support_bottom10.loc['Chad', \"2015\":\"2019\"].plot(label=\"Chad\")\n",
    "support_bottom10.loc['Guinea', \"2015\":\"2019\"].plot(label=\"Guinea\")\n",
    "support_bottom10.loc['Ivory Coast', \"2015\":\"2019\"].plot(label=\"Ivory Coast\")\n",
    "support_bottom10.loc['Burkina Faso', \"2015\":\"2019\"].plot(label=\"Burkina Faso\")\n",
    "support_bottom10.loc['Afghanistan', \"2015\":\"2019\"].plot(label=\"Canada\")\n",
    "support_bottom10.loc['Rwanda', \"2015\":\"2019\"].plot(label=\"Rwanda\")\n",
    "support_bottom10.loc['Benin', \"2015\":\"2019\"].plot(label=\"Benin\")\n",
    "support_bottom10.loc['Syria', \"2015\":\"2019\"].plot(label=\"Syria\")\n",
    "support_bottom10.loc['Burundi', \"2015\":\"2019\"].plot(label=\"Burundi\")\n",
    "support_bottom10.loc['Togo', \"2015\":\"2019\"].plot(label=\"Togo\")\n",
    "plt.title(\"Plot Social Support Score for Bottom 10 Countries\")\n",
    "plt.ylabel('Social Support Score')\n",
    "plt.xlabel('Year')\n",
    "plt.legend()\n",
    "plt.savefig(\"../images/Bottom10_SocialSupport_Score.png\")\n",
    "plt.show()"
   ]
  },
  {
   "cell_type": "markdown",
   "metadata": {},
   "source": [
    "## use the boxplot to find any outliers in the social support scores."
   ]
  },
  {
   "cell_type": "code",
   "execution_count": null,
   "metadata": {},
   "outputs": [],
   "source": [
    "# Multiple Plots using subplot () Function\n",
    "X1 =combined_df[\"support_2015\"]\n",
    "X2=combined_df[\"support_2016\"]\n",
    "X3=combined_df[\"support_2017\"]\n",
    "X4=combined_df[\"support_2018\"]\n",
    "X5=combined_df[\"support_2019\"]\n",
    "# Using built-in trigonometric function we can directly plot \n",
    "# the given cosine wave for the given angles \n",
    "#Y1 = combined_df[\"Happiness_2015\"]\n",
    "#Y2 = combined_df[\"Happiness_2016\"] \n",
    "#Y3 = combined_df[\"Happiness_2017\"] \n",
    "#Y4 = combined_df[\"Happiness_2018\"] \n",
    "#Y5 = combined_df[\"Happiness_2019\"]\n",
    "\n",
    "# Initialise the subplot function using number of rows and columns \n",
    "figure, axis = plt.subplots(2, 3) \n",
    "  \n",
    "# For 2015 \n",
    "axis[0, 0].boxplot(X1) \n",
    "axis[0, 0].set_title(\"2015\") \n",
    "  \n",
    "# For 2016 \n",
    "axis[0, 1].boxplot(X2) \n",
    "axis[0, 1].set_title(\"2016\") \n",
    "  \n",
    "# For 2017 \n",
    "axis[1, 0].boxplot(X3) \n",
    "axis[1, 0].set_title(\"2017\") \n",
    "  \n",
    "# For 2018 \n",
    "axis[1, 1].boxplot(X4) \n",
    "axis[1, 1].set_title(\"2018\") \n",
    "\n",
    "# For 2019 \n",
    "axis[1, 2].boxplot(X5) \n",
    "axis[1, 2].set_title(\"2019\")   \n",
    "# Combine all the operations and display \n",
    "plt.savefig(\"../images/Year_Happiness_boxplotPlot.png\")\n",
    "plt.show() \n",
    "\n",
    "print(f\"There is no significant outliers noticed except the one in 2016 below the 0.0 mark. Needs more investigation\")\n"
   ]
  },
  {
   "cell_type": "code",
   "execution_count": null,
   "metadata": {},
   "outputs": [],
   "source": [
    "# Plot out \"Avg Happiness Score vs Avg Family Score\"\n",
    "x_axis = combined_df[\"Avg_Support\"]\n",
    "y_axis = combined_df[\"Avg_Happiness\"]\n",
    "plt.scatter(x_axis, y_axis, marker=\"o\", facecolors=\"red\", edgecolors=\"black\")\n",
    "plt.savefig(\"../images/AvgHappy_AvgFamily.png\")"
   ]
  },
  {
   "cell_type": "code",
   "execution_count": null,
   "metadata": {},
   "outputs": [],
   "source": [
    "# Add the linear regression equation and line to plot\n",
    "x_values = combined_df[\"Avg_Support\"]\n",
    "y_values = combined_df[\"Avg_Happiness\"]\n",
    "(slope, intercept, rvalue, pvalue, stderr) = linregress(x_values, y_values)\n",
    "regress_values = x_values * slope + intercept\n",
    "line_eq = \"y = \" + str(round(slope,2)) + \"x + \" + str(round(intercept,2))\n",
    "plt.scatter(x_values,y_values)\n",
    "plt.plot(x_values,regress_values,\"r-\")\n",
    "plt.annotate(line_eq,(1,7.3),fontsize=20,color=\"purple\")\n",
    "plt.xlabel('Average Social Support Score')\n",
    "plt.ylabel('Average Happiness Score')\n",
    "plt.title('Happiness vs Social Support')\n",
    "print(f\"The r-squared is: {rvalue}\")\n",
    "print(f\"The pvalue is: {pvalue}\")\n",
    "plt.show()\n",
    "print(f\"Based on the r-square we can say there is a strong correlation between happiness and social support.\")\n",
    "print(f\"Since thepoints are not disributed equally on either side of the regression line, we cannot say this is a linear correlation.\")\n",
    "print(f\"Further analysis needed\")\n",
    "plt.savefig(\"../images/Support_Reg.png\")"
   ]
  },
  {
   "cell_type": "code",
   "execution_count": null,
   "metadata": {},
   "outputs": [],
   "source": [
    "# plot the Average Happiness and SocialSupport data using Matplotlib, color the data points using the ave happiness of the block.\n",
    "plt.scatter(combined_df['Avg_Support'],combined_df['Avg_generosity'],c=combined_df['Avg_Happiness'])\n",
    "clb = plt.colorbar()\n",
    "plt.xlabel(\"Avg_Support\")\n",
    "plt.ylabel(\"Avg_generosity\")\n",
    "clb.set_label(\"Avg_Happiness\")\n",
    "plt.title(\"Average Social Support and Generosity vs Happiness\")\n",
    "plt.show()\n",
    "print(f\"The country which shows the highest generosity score is Myanmar, but the average happiness score for Myanmar is 4.38\")\n",
    "plt.savefig(\"../images/Ave_supportANDgenerosity.png\")"
   ]
  },
  {
   "cell_type": "code",
   "execution_count": null,
   "metadata": {},
   "outputs": [],
   "source": [
    "\n",
    "combined_df.query(\"Avg_generosity >0.7\")"
   ]
  },
  {
   "cell_type": "code",
   "execution_count": null,
   "metadata": {},
   "outputs": [],
   "source": [
    "combined_df.query(\"Avg_Support <0.5\")"
   ]
  }
 ],
 "metadata": {
  "kernelspec": {
   "display_name": "Python [conda env:PythonData] *",
   "language": "python",
   "name": "conda-env-PythonData-py"
  },
  "language_info": {
   "codemirror_mode": {
    "name": "ipython",
    "version": 3
   },
   "file_extension": ".py",
   "mimetype": "text/x-python",
   "name": "python",
   "nbconvert_exporter": "python",
   "pygments_lexer": "ipython3",
   "version": "3.6.10"
  }
 },
 "nbformat": 4,
 "nbformat_minor": 1
}
