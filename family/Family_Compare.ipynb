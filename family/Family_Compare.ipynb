{
 "cells": [
  {
   "cell_type": "code",
   "execution_count": 9,
   "metadata": {},
   "outputs": [],
   "source": [
    "# Dependencies\n",
    "import pandas as pd\n",
    "import matplotlib.pyplot as plt\n",
    "import scipy.stats as sts\n",
    "import numpy as np\n",
    "from scipy.stats import linregress"
   ]
  },
  {
   "cell_type": "code",
   "execution_count": 10,
   "metadata": {},
   "outputs": [],
   "source": [
    "# Store filepath in a variable\n",
    "file_family_2015 = \"Resources/2015.csv\"\n",
    "file_family_2016 = \"Resources/2016.csv\"\n",
    "file_family_2017 = \"Resources/2017.csv\"\n",
    "file_family_2018 = \"Resources/2018.csv\"\n",
    "file_family_2019 = \"Resources/2019.csv\""
   ]
  },
  {
   "cell_type": "code",
   "execution_count": 11,
   "metadata": {},
   "outputs": [],
   "source": [
    "# Read Data files with the pandas library\n",
    "happiness_family_2015_df = pd.read_csv(file_family_2015, encoding=\"UTF-8\")\n",
    "happiness_family_2016_df = pd.read_csv(file_family_2016, encoding=\"UTF-8\")\n",
    "happiness_family_2017_df = pd.read_csv(file_family_2017, encoding=\"UTF-8\")\n",
    "happiness_family_2018_df = pd.read_csv(file_family_2018, encoding=\"UTF-8\")\n",
    "happiness_family_2019_df = pd.read_csv(file_family_2019, encoding=\"UTF-8\")"
   ]
  },
  {
   "cell_type": "code",
   "execution_count": 12,
   "metadata": {},
   "outputs": [],
   "source": [
    "d_2015_df = happiness_family_2015_df.dropna(axis = 0, how = \"any\")\n",
    "d_2016_df = happiness_family_2016_df.dropna(axis = 0, how = \"any\")\n",
    "d_2017_df = happiness_family_2017_df.dropna(axis = 0, how = \"any\")\n",
    "d_2018_df = happiness_family_2018_df.dropna(axis = 0, how = \"any\")\n",
    "d_2019_df = happiness_family_2019_df.dropna(axis = 0, how = \"any\")\n"
   ]
  },
  {
   "cell_type": "code",
   "execution_count": null,
   "metadata": {},
   "outputs": [],
   "source": []
  }
 ],
 "metadata": {
  "kernelspec": {
   "display_name": "Python [conda env:.conda-PythonData] *",
   "language": "python",
   "name": "conda-env-.conda-PythonData-py"
  },
  "language_info": {
   "codemirror_mode": {
    "name": "ipython",
    "version": 3
   },
   "file_extension": ".py",
   "mimetype": "text/x-python",
   "name": "python",
   "nbconvert_exporter": "python",
   "pygments_lexer": "ipython3",
   "version": "3.6.12"
  }
 },
 "nbformat": 4,
 "nbformat_minor": 4
}
