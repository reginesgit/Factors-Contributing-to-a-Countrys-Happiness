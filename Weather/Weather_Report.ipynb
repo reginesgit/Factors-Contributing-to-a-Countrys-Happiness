{
 "cells": [
  {
   "cell_type": "code",
   "execution_count": 15,
   "metadata": {},
   "outputs": [],
   "source": [
    "import pandas as pd\n",
    "import numpy as np\n",
    "import requests\n",
    "\n",
    "# Dependencies and Setup\n",
    "import matplotlib.pyplot as plt\n",
    "import gmaps\n",
    "import os\n",
    "import json\n",
    "from scipy import stats\n",
    "\n",
    "# Import API key\n",
    "from config import g_key\n",
    "\n",
    "# Import API key\n",
    "from config import weather_api_key"
   ]
  },
  {
   "cell_type": "code",
   "execution_count": 11,
   "metadata": {},
   "outputs": [
    {
     "data": {
      "text/html": [
       "<div>\n",
       "<style scoped>\n",
       "    .dataframe tbody tr th:only-of-type {\n",
       "        vertical-align: middle;\n",
       "    }\n",
       "\n",
       "    .dataframe tbody tr th {\n",
       "        vertical-align: top;\n",
       "    }\n",
       "\n",
       "    .dataframe thead th {\n",
       "        text-align: right;\n",
       "    }\n",
       "</style>\n",
       "<table border=\"1\" class=\"dataframe\">\n",
       "  <thead>\n",
       "    <tr style=\"text-align: right;\">\n",
       "      <th></th>\n",
       "      <th>Country</th>\n",
       "      <th>Happiness Score_2015</th>\n",
       "      <th>Happiness Score_2016</th>\n",
       "      <th>Happiness Score_2017</th>\n",
       "      <th>Happiness Score_2018</th>\n",
       "      <th>Happiness Score_2019</th>\n",
       "      <th>Avg Happiness</th>\n",
       "      <th>ContinentName</th>\n",
       "      <th>City</th>\n",
       "      <th>CapitalLatitude</th>\n",
       "      <th>CapitalLongitude</th>\n",
       "      <th>Temp</th>\n",
       "      <th>Cloudiness</th>\n",
       "      <th>Wind Speed</th>\n",
       "      <th>Humidity</th>\n",
       "    </tr>\n",
       "  </thead>\n",
       "  <tbody>\n",
       "    <tr>\n",
       "      <th>0</th>\n",
       "      <td>Denmark</td>\n",
       "      <td>7.527</td>\n",
       "      <td>7.526</td>\n",
       "      <td>7.522</td>\n",
       "      <td>7.555</td>\n",
       "      <td>7.600</td>\n",
       "      <td>7.5460</td>\n",
       "      <td>Europe</td>\n",
       "      <td>Copenhagen</td>\n",
       "      <td>55.666667</td>\n",
       "      <td>12.583333</td>\n",
       "      <td>31.75</td>\n",
       "      <td>90.0</td>\n",
       "      <td>16.11</td>\n",
       "      <td>80.0</td>\n",
       "    </tr>\n",
       "    <tr>\n",
       "      <th>1</th>\n",
       "      <td>Norway</td>\n",
       "      <td>7.522</td>\n",
       "      <td>7.498</td>\n",
       "      <td>7.537</td>\n",
       "      <td>7.594</td>\n",
       "      <td>7.554</td>\n",
       "      <td>7.5410</td>\n",
       "      <td>Europe</td>\n",
       "      <td>Oslo</td>\n",
       "      <td>59.916667</td>\n",
       "      <td>10.750000</td>\n",
       "      <td>24.30</td>\n",
       "      <td>100.0</td>\n",
       "      <td>1.01</td>\n",
       "      <td>72.0</td>\n",
       "    </tr>\n",
       "    <tr>\n",
       "      <th>2</th>\n",
       "      <td>Finland</td>\n",
       "      <td>7.406</td>\n",
       "      <td>7.413</td>\n",
       "      <td>7.469</td>\n",
       "      <td>7.632</td>\n",
       "      <td>7.769</td>\n",
       "      <td>7.5378</td>\n",
       "      <td>Europe</td>\n",
       "      <td>Helsinki</td>\n",
       "      <td>60.166667</td>\n",
       "      <td>24.933333</td>\n",
       "      <td>21.92</td>\n",
       "      <td>0.0</td>\n",
       "      <td>8.05</td>\n",
       "      <td>79.0</td>\n",
       "    </tr>\n",
       "    <tr>\n",
       "      <th>3</th>\n",
       "      <td>Switzerland</td>\n",
       "      <td>7.587</td>\n",
       "      <td>7.509</td>\n",
       "      <td>7.494</td>\n",
       "      <td>7.487</td>\n",
       "      <td>7.480</td>\n",
       "      <td>7.5114</td>\n",
       "      <td>Europe</td>\n",
       "      <td>Bern</td>\n",
       "      <td>46.916667</td>\n",
       "      <td>7.466667</td>\n",
       "      <td>37.29</td>\n",
       "      <td>75.0</td>\n",
       "      <td>3.44</td>\n",
       "      <td>60.0</td>\n",
       "    </tr>\n",
       "    <tr>\n",
       "      <th>4</th>\n",
       "      <td>Iceland</td>\n",
       "      <td>7.561</td>\n",
       "      <td>7.501</td>\n",
       "      <td>7.504</td>\n",
       "      <td>7.495</td>\n",
       "      <td>7.494</td>\n",
       "      <td>7.5110</td>\n",
       "      <td>Europe</td>\n",
       "      <td>Reykjavik</td>\n",
       "      <td>64.150000</td>\n",
       "      <td>-21.950000</td>\n",
       "      <td>41.95</td>\n",
       "      <td>75.0</td>\n",
       "      <td>12.66</td>\n",
       "      <td>81.0</td>\n",
       "    </tr>\n",
       "    <tr>\n",
       "      <th>5</th>\n",
       "      <td>Netherlands</td>\n",
       "      <td>7.378</td>\n",
       "      <td>7.339</td>\n",
       "      <td>7.377</td>\n",
       "      <td>7.441</td>\n",
       "      <td>7.488</td>\n",
       "      <td>7.4046</td>\n",
       "      <td>Europe</td>\n",
       "      <td>Amsterdam</td>\n",
       "      <td>52.350000</td>\n",
       "      <td>4.916667</td>\n",
       "      <td>39.87</td>\n",
       "      <td>75.0</td>\n",
       "      <td>9.22</td>\n",
       "      <td>93.0</td>\n",
       "    </tr>\n",
       "    <tr>\n",
       "      <th>6</th>\n",
       "      <td>Canada</td>\n",
       "      <td>7.427</td>\n",
       "      <td>7.404</td>\n",
       "      <td>7.316</td>\n",
       "      <td>7.328</td>\n",
       "      <td>7.278</td>\n",
       "      <td>7.3506</td>\n",
       "      <td>Central America</td>\n",
       "      <td>Ottawa</td>\n",
       "      <td>45.416667</td>\n",
       "      <td>-75.700000</td>\n",
       "      <td>21.78</td>\n",
       "      <td>90.0</td>\n",
       "      <td>5.75</td>\n",
       "      <td>73.0</td>\n",
       "    </tr>\n",
       "    <tr>\n",
       "      <th>7</th>\n",
       "      <td>Sweden</td>\n",
       "      <td>7.364</td>\n",
       "      <td>7.291</td>\n",
       "      <td>7.284</td>\n",
       "      <td>7.314</td>\n",
       "      <td>7.343</td>\n",
       "      <td>7.3192</td>\n",
       "      <td>Europe</td>\n",
       "      <td>Stockholm</td>\n",
       "      <td>59.333333</td>\n",
       "      <td>18.050000</td>\n",
       "      <td>22.98</td>\n",
       "      <td>0.0</td>\n",
       "      <td>4.61</td>\n",
       "      <td>80.0</td>\n",
       "    </tr>\n",
       "    <tr>\n",
       "      <th>8</th>\n",
       "      <td>New Zealand</td>\n",
       "      <td>7.286</td>\n",
       "      <td>7.334</td>\n",
       "      <td>7.314</td>\n",
       "      <td>7.324</td>\n",
       "      <td>7.307</td>\n",
       "      <td>7.3130</td>\n",
       "      <td>Australia</td>\n",
       "      <td>Wellington</td>\n",
       "      <td>-41.300000</td>\n",
       "      <td>174.783333</td>\n",
       "      <td>56.03</td>\n",
       "      <td>75.0</td>\n",
       "      <td>28.77</td>\n",
       "      <td>100.0</td>\n",
       "    </tr>\n",
       "    <tr>\n",
       "      <th>9</th>\n",
       "      <td>Australia</td>\n",
       "      <td>7.284</td>\n",
       "      <td>7.313</td>\n",
       "      <td>7.284</td>\n",
       "      <td>7.272</td>\n",
       "      <td>7.228</td>\n",
       "      <td>7.2762</td>\n",
       "      <td>Australia</td>\n",
       "      <td>Canberra</td>\n",
       "      <td>-35.266667</td>\n",
       "      <td>149.133333</td>\n",
       "      <td>55.74</td>\n",
       "      <td>54.0</td>\n",
       "      <td>7.20</td>\n",
       "      <td>82.0</td>\n",
       "    </tr>\n",
       "  </tbody>\n",
       "</table>\n",
       "</div>"
      ],
      "text/plain": [
       "       Country  Happiness Score_2015  Happiness Score_2016  \\\n",
       "0      Denmark                 7.527                 7.526   \n",
       "1       Norway                 7.522                 7.498   \n",
       "2      Finland                 7.406                 7.413   \n",
       "3  Switzerland                 7.587                 7.509   \n",
       "4      Iceland                 7.561                 7.501   \n",
       "5  Netherlands                 7.378                 7.339   \n",
       "6       Canada                 7.427                 7.404   \n",
       "7       Sweden                 7.364                 7.291   \n",
       "8  New Zealand                 7.286                 7.334   \n",
       "9    Australia                 7.284                 7.313   \n",
       "\n",
       "   Happiness Score_2017  Happiness Score_2018  Happiness Score_2019  \\\n",
       "0                 7.522                 7.555                 7.600   \n",
       "1                 7.537                 7.594                 7.554   \n",
       "2                 7.469                 7.632                 7.769   \n",
       "3                 7.494                 7.487                 7.480   \n",
       "4                 7.504                 7.495                 7.494   \n",
       "5                 7.377                 7.441                 7.488   \n",
       "6                 7.316                 7.328                 7.278   \n",
       "7                 7.284                 7.314                 7.343   \n",
       "8                 7.314                 7.324                 7.307   \n",
       "9                 7.284                 7.272                 7.228   \n",
       "\n",
       "   Avg Happiness    ContinentName        City  CapitalLatitude  \\\n",
       "0         7.5460           Europe  Copenhagen        55.666667   \n",
       "1         7.5410           Europe        Oslo        59.916667   \n",
       "2         7.5378           Europe    Helsinki        60.166667   \n",
       "3         7.5114           Europe        Bern        46.916667   \n",
       "4         7.5110           Europe   Reykjavik        64.150000   \n",
       "5         7.4046           Europe   Amsterdam        52.350000   \n",
       "6         7.3506  Central America      Ottawa        45.416667   \n",
       "7         7.3192           Europe   Stockholm        59.333333   \n",
       "8         7.3130        Australia  Wellington       -41.300000   \n",
       "9         7.2762        Australia    Canberra       -35.266667   \n",
       "\n",
       "   CapitalLongitude   Temp  Cloudiness  Wind Speed  Humidity  \n",
       "0         12.583333  31.75        90.0       16.11      80.0  \n",
       "1         10.750000  24.30       100.0        1.01      72.0  \n",
       "2         24.933333  21.92         0.0        8.05      79.0  \n",
       "3          7.466667  37.29        75.0        3.44      60.0  \n",
       "4        -21.950000  41.95        75.0       12.66      81.0  \n",
       "5          4.916667  39.87        75.0        9.22      93.0  \n",
       "6        -75.700000  21.78        90.0        5.75      73.0  \n",
       "7         18.050000  22.98         0.0        4.61      80.0  \n",
       "8        174.783333  56.03        75.0       28.77     100.0  \n",
       "9        149.133333  55.74        54.0        7.20      82.0  "
      ]
     },
     "execution_count": 11,
     "metadata": {},
     "output_type": "execute_result"
    }
   ],
   "source": [
    "#happiest_weather_top_10.to_csv(\"happiness_weather_top10.csv\", encoding=\"utf-8\", index=True)\n",
    "# Create reference to CSV file\n",
    "csv_path = \"happiness_weather_top10.csv\"\n",
    "# Import the CSV into a pandas DataFrame\n",
    "cities_weather_df = pd.read_csv(csv_path, low_memory=False)\n",
    "# Delete extra index column\n",
    "del cities_weather_df['Unnamed: 0']\n",
    "# Show dataframe\n",
    "cities_weather_df\n",
    "\n",
    "# cities_weather_df.drop(index=None, columns=\"Unnamed\", inplace=True)"
   ]
  },
  {
   "cell_type": "code",
   "execution_count": 12,
   "metadata": {},
   "outputs": [],
   "source": [
    "# Configure gmaps\n",
    "gmaps.configure(api_key=g_key)"
   ]
  },
  {
   "cell_type": "code",
   "execution_count": 14,
   "metadata": {},
   "outputs": [
    {
     "data": {
      "application/vnd.jupyter.widget-view+json": {
       "model_id": "9b48560ec94e450d9c55731843f775da",
       "version_major": 2,
       "version_minor": 0
      },
      "text/plain": [
       "Figure(layout=FigureLayout(height='420px'))"
      ]
     },
     "metadata": {},
     "output_type": "display_data"
    }
   ],
   "source": [
    "# Store latitude and longitude in locations\n",
    "locations = cities_weather_df[[\"CapitalLatitude\", \"CapitalLongitude\"]]\n",
    "cloudiness = cities_weather_df[\"Cloudiness\"]\n",
    "# Plot Heatmap\n",
    "fig = gmaps.figure()\n",
    "# Create heat layer\n",
    "heat_layer = gmaps.heatmap_layer(locations, weights=cloudiness, \n",
    "                                 dissipating=False, max_intensity=10,\n",
    "                                 point_radius=1)\n",
    "# Add layer\n",
    "fig.add_layer(heat_layer)\n",
    "# Display figure\n",
    "fig"
   ]
  },
  {
   "cell_type": "code",
   "execution_count": 25,
   "metadata": {},
   "outputs": [
    {
     "data": {
      "image/png": "[encoded data removed]",
      "text/plain": [
       "<Figure size 432x288 with 1 Axes>"
      ]
     },
     "metadata": {
      "needs_background": "light"
     },
     "output_type": "display_data"
    }
   ],
   "source": [
    "plt.scatter(cities_weather_df[\"Temp\"], cities_weather_df[\"Avg Happiness\"], marker=\"o\")\n",
    "plt.title(\"Happiness vs. Temperature Worldwide 15-Feb-2021\")\n",
    "plt.ylabel(\"Average Total Happiness\")\n",
    "plt.xlabel(\"Temperature (Fahrenheit)\")\n",
    "plt.grid(True)\n",
    "plt.savefig(\"HapVStempWorld.png\")"
   ]
  },
  {
   "cell_type": "code",
   "execution_count": 20,
   "metadata": {},
   "outputs": [
    {
     "data": {
      "image/png": "[encoded data removed]",
      "text/plain": [
       "<Figure size 432x288 with 1 Axes>"
      ]
     },
     "metadata": {
      "needs_background": "light"
     },
     "output_type": "display_data"
    }
   ],
   "source": [
    "plt.scatter(cities_weather_df[\"Cloudiness\"], cities_weather_df[\"Avg Happiness\"], marker=\"o\")\n",
    "plt.title(\"Happiness vs. Cloudiness Worldwide 15-Feb-2021\")\n",
    "plt.ylabel(\"Average Total Happiness\")\n",
    "plt.xlabel(\"Cloudiness (%)\")\n",
    "plt.grid(True)\n",
    "plt.savefig(\"CloudVStempWorld.png\")"
   ]
  },
  {
   "cell_type": "code",
   "execution_count": 21,
   "metadata": {},
   "outputs": [
    {
     "data": {
      "image/png": "[encoded data removed]",
      "text/plain": [
       "<Figure size 432x288 with 1 Axes>"
      ]
     },
     "metadata": {
      "needs_background": "light"
     },
     "output_type": "display_data"
    }
   ],
   "source": [
    "plt.scatter(cities_weather_df[\"Wind Speed\"], cities_weather_df[\"Avg Happiness\"], marker=\"o\")\n",
    "plt.title(\"Happiness vs. Wind Speed Worldwide 15-Feb-2021\")\n",
    "plt.ylabel(\"Average Total Happiness\")\n",
    "plt.xlabel(\"Wind Speed (mph)\")\n",
    "plt.grid(True)\n",
    "plt.savefig(\"WindVStempWorld.png\")"
   ]
  },
  {
   "cell_type": "code",
   "execution_count": 22,
   "metadata": {},
   "outputs": [
    {
     "data": {
      "image/png": "[encoded data removed]",
      "text/plain": [
       "<Figure size 432x288 with 1 Axes>"
      ]
     },
     "metadata": {
      "needs_background": "light"
     },
     "output_type": "display_data"
    }
   ],
   "source": [
    "plt.scatter(cities_weather_df[\"Humidity\"], cities_weather_df[\"Avg Happiness\"], marker=\"o\")\n",
    "plt.title(\"Happiness vs. Humidity Worldwide 15-Feb-2021\")\n",
    "plt.ylabel(\"Average Total Happiness\")\n",
    "plt.xlabel(\"Humidity (%)\")\n",
    "plt.grid(True)\n",
    "plt.savefig(\"HumidVStempWorld.png\")"
   ]
  },
  {
   "cell_type": "code",
   "execution_count": 26,
   "metadata": {},
   "outputs": [
    {
     "ename": "NameError",
     "evalue": "name 'gender_chart' is not defined",
     "output_type": "error",
     "traceback": [
      "\u001b[1;31m---------------------------------------------------------------------------\u001b[0m",
      "\u001b[1;31mNameError\u001b[0m                                 Traceback (most recent call last)",
      "\u001b[1;32m<ipython-input-26-bf834a64b47c>\u001b[0m in \u001b[0;36m<module>\u001b[1;34m\u001b[0m\n\u001b[0;32m      7\u001b[0m \u001b[1;31m# Chart our data, give it a title, and label the axes\u001b[0m\u001b[1;33m\u001b[0m\u001b[1;33m\u001b[0m\u001b[1;33m\u001b[0m\u001b[0m\n\u001b[0;32m      8\u001b[0m \u001b[0mregion_chart\u001b[0m \u001b[1;33m=\u001b[0m \u001b[0mregion_happies\u001b[0m\u001b[1;33m.\u001b[0m\u001b[0mplot\u001b[0m\u001b[1;33m(\u001b[0m\u001b[0mkind\u001b[0m\u001b[1;33m=\u001b[0m\u001b[1;34m\"bar\"\u001b[0m\u001b[1;33m,\u001b[0m \u001b[0mtitle\u001b[0m\u001b[1;33m=\u001b[0m\u001b[1;34m\"Happy Countries by Continent\"\u001b[0m\u001b[1;33m)\u001b[0m\u001b[1;33m\u001b[0m\u001b[1;33m\u001b[0m\u001b[0m\n\u001b[1;32m----> 9\u001b[1;33m \u001b[0mgender_chart\u001b[0m\u001b[1;33m.\u001b[0m\u001b[0mset_xlabel\u001b[0m\u001b[1;33m(\u001b[0m\u001b[1;34m\"Continent\"\u001b[0m\u001b[1;33m)\u001b[0m\u001b[1;33m\u001b[0m\u001b[1;33m\u001b[0m\u001b[0m\n\u001b[0m\u001b[0;32m     10\u001b[0m \u001b[0mgender_chart\u001b[0m\u001b[1;33m.\u001b[0m\u001b[0mset_ylabel\u001b[0m\u001b[1;33m(\u001b[0m\u001b[1;34m\"Number of Occurances\"\u001b[0m\u001b[1;33m)\u001b[0m\u001b[1;33m\u001b[0m\u001b[1;33m\u001b[0m\u001b[0m\n\u001b[0;32m     11\u001b[0m \u001b[1;33m\u001b[0m\u001b[0m\n",
      "\u001b[1;31mNameError\u001b[0m: name 'gender_chart' is not defined"
     ]
    },
    {
     "data": {
      "image/png": "[encoded data removed]",
      "text/plain": [
       "<Figure size 432x288 with 1 Axes>"
      ]
     },
     "metadata": {
      "needs_background": "light"
     },
     "output_type": "display_data"
    }
   ],
   "source": [
    "# Split up our data into groups based upon 'gender'\n",
    "region_groups = cities_weather_df.groupby('ContinentName')\n",
    "\n",
    "# Find out how many of each gender took bike trips\n",
    "region_happies = region_groups['Temp'].count()\n",
    "\n",
    "# Chart our data, give it a title, and label the axes\n",
    "region_chart = region_happies.plot(kind=\"bar\", title=\"Happy Countries by Continent\")\n",
    "region_chart.set_xlabel(\"Continent\")\n",
    "region_chart.set_ylabel(\"Number of Occurances\")\n",
    "\n",
    "plt.show()\n",
    "plt.tight_layout()"
   ]
  },
  {
   "cell_type": "code",
   "execution_count": null,
   "metadata": {},
   "outputs": [],
   "source": []
  }
 ],
 "metadata": {
  "kernelspec": {
   "display_name": "Python [conda env:.conda-PythonData] *",
   "language": "python",
   "name": "conda-env-.conda-PythonData-py"
  },
  "language_info": {
   "codemirror_mode": {
    "name": "ipython",
    "version": 3
   },
   "file_extension": ".py",
   "mimetype": "text/x-python",
   "name": "python",
   "nbconvert_exporter": "python",
   "pygments_lexer": "ipython3",
   "version": "3.6.10"
  }
 },
 "nbformat": 4,
 "nbformat_minor": 4
}
